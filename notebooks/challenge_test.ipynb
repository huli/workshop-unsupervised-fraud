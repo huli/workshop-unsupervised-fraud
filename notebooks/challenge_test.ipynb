{
 "cells": [
  {
   "cell_type": "markdown",
   "metadata": {
    "colab_type": "text",
    "id": "0ek6rUiPXRC-"
   },
   "source": [
    "# Workshop challenge"
   ]
  },
  {
   "cell_type": "markdown",
   "metadata": {
    "colab_type": "text",
    "id": "FsyJ1d24Z9Je"
   },
   "source": [
    "## Package installing and data import"
   ]
  },
  {
   "cell_type": "code",
   "execution_count": 1,
   "metadata": {},
   "outputs": [
    {
     "name": "stderr",
     "output_type": "stream",
     "text": [
      "Using TensorFlow backend.\n"
     ]
    }
   ],
   "source": [
    "# standard library imports\n",
    "import os\n",
    "import sys\n",
    "from collections import Counter\n",
    "\n",
    "# pandas, seaborn etc.\n",
    "import seaborn as sns\n",
    "import sklearn \n",
    "import matplotlib.pyplot as plt\n",
    "%matplotlib inline\n",
    "import pandas as pd\n",
    "import numpy as np\n",
    "\n",
    "# sklearn outlier models\n",
    "from sklearn.neighbors import NearestNeighbors\n",
    "# from sklearn.neighbors import LocalOutlierFactor\n",
    "# from sklearn.ensemble import IsolationForest\n",
    "from sklearn.cluster import DBSCAN\n",
    "from sklearn.mixture import GaussianMixture\n",
    "\n",
    "# other sklearn functions\n",
    "from sklearn.decomposition import PCA\n",
    "from sklearn.covariance import MinCovDet, EmpiricalCovariance\n",
    "from sklearn.metrics import roc_auc_score\n",
    "from sklearn.preprocessing import StandardScaler, RobustScaler, MinMaxScaler\n",
    "from sklearn.preprocessing import LabelEncoder\n",
    "from sklearn.preprocessing import scale as preproc_scale\n",
    "from sklearn.manifold import TSNE\n",
    "\n",
    "# pyod\n",
    "import pyod\n",
    "from pyod.models.auto_encoder import AutoEncoder\n",
    "from pyod.models.knn import KNN\n",
    "from pyod.models.lof import LOF\n",
    "# from pyod.models.pca import PCA as pyod_PCA\n",
    "from pyod.models.iforest import IForest"
   ]
  },
  {
   "cell_type": "code",
   "execution_count": 2,
   "metadata": {},
   "outputs": [],
   "source": [
    "sys.path.append(\"..\") #to enable importing from outlierutils\n",
    "from outlierutils import plot_top_N, plot_outlier_scores, LabelSubmitter \n",
    "url = \"https://unsupervised-label-api-pg.herokuapp.com/\" # Link to the API\n"
   ]
  },
  {
   "cell_type": "code",
   "execution_count": null,
   "metadata": {},
   "outputs": [],
   "source": []
  },
  {
   "cell_type": "markdown",
   "metadata": {},
   "source": [
    "## Data Imports"
   ]
  },
  {
   "cell_type": "code",
   "execution_count": 149,
   "metadata": {},
   "outputs": [
    {
     "name": "stdout",
     "output_type": "stream",
     "text": [
      "Data set size: (48113, 41)\n"
     ]
    }
   ],
   "source": [
    "data_path = '../data'\n",
    "x_kdd = pd.read_pickle(os.path.join(data_path, 'x_kdd.pkl'))\n",
    "x_kdd = x_kdd.drop_duplicates()\n",
    "if x_kdd.index.max() > len(x_kdd):\n",
    "    x_kdd = x_kdd.reset_index()\n",
    "print(f'Data set size: {x_kdd.shape}')"
   ]
  },
  {
   "cell_type": "code",
   "execution_count": 150,
   "metadata": {},
   "outputs": [
    {
     "data": {
      "text/html": [
       "<div>\n",
       "<style scoped>\n",
       "    .dataframe tbody tr th:only-of-type {\n",
       "        vertical-align: middle;\n",
       "    }\n",
       "\n",
       "    .dataframe tbody tr th {\n",
       "        vertical-align: top;\n",
       "    }\n",
       "\n",
       "    .dataframe thead th {\n",
       "        text-align: right;\n",
       "    }\n",
       "</style>\n",
       "<table border=\"1\" class=\"dataframe\">\n",
       "  <thead>\n",
       "    <tr style=\"text-align: right;\">\n",
       "      <th></th>\n",
       "      <th>duration</th>\n",
       "      <th>protocol_type</th>\n",
       "      <th>service</th>\n",
       "      <th>flag</th>\n",
       "      <th>src_bytes</th>\n",
       "      <th>dst_bytes</th>\n",
       "      <th>land</th>\n",
       "      <th>wrong_fragment</th>\n",
       "      <th>urgent</th>\n",
       "      <th>hot</th>\n",
       "      <th>...</th>\n",
       "      <th>dst_host_count</th>\n",
       "      <th>dst_host_srv_count</th>\n",
       "      <th>dst_host_same_srv_rate</th>\n",
       "      <th>dst_host_diff_srv_rate</th>\n",
       "      <th>dst_host_same_src_port_rate</th>\n",
       "      <th>dst_host_srv_diff_host_rate</th>\n",
       "      <th>dst_host_serror_rate</th>\n",
       "      <th>dst_host_srv_serror_rate</th>\n",
       "      <th>dst_host_rerror_rate</th>\n",
       "      <th>dst_host_srv_rerror_rate</th>\n",
       "    </tr>\n",
       "  </thead>\n",
       "  <tbody>\n",
       "    <tr>\n",
       "      <th>0</th>\n",
       "      <td>0.0</td>\n",
       "      <td>tcp</td>\n",
       "      <td>ftp_data</td>\n",
       "      <td>SF</td>\n",
       "      <td>203.0</td>\n",
       "      <td>0.0</td>\n",
       "      <td>0.0</td>\n",
       "      <td>0.0</td>\n",
       "      <td>0.0</td>\n",
       "      <td>0.0</td>\n",
       "      <td>...</td>\n",
       "      <td>255.0</td>\n",
       "      <td>125.0</td>\n",
       "      <td>0.49</td>\n",
       "      <td>0.02</td>\n",
       "      <td>0.49</td>\n",
       "      <td>0.00</td>\n",
       "      <td>0.0</td>\n",
       "      <td>0.0</td>\n",
       "      <td>0.0</td>\n",
       "      <td>0.0</td>\n",
       "    </tr>\n",
       "    <tr>\n",
       "      <th>1</th>\n",
       "      <td>0.0</td>\n",
       "      <td>tcp</td>\n",
       "      <td>http</td>\n",
       "      <td>SF</td>\n",
       "      <td>216.0</td>\n",
       "      <td>4828.0</td>\n",
       "      <td>0.0</td>\n",
       "      <td>0.0</td>\n",
       "      <td>0.0</td>\n",
       "      <td>0.0</td>\n",
       "      <td>...</td>\n",
       "      <td>5.0</td>\n",
       "      <td>231.0</td>\n",
       "      <td>1.00</td>\n",
       "      <td>0.00</td>\n",
       "      <td>0.20</td>\n",
       "      <td>0.02</td>\n",
       "      <td>0.0</td>\n",
       "      <td>0.0</td>\n",
       "      <td>0.0</td>\n",
       "      <td>0.0</td>\n",
       "    </tr>\n",
       "    <tr>\n",
       "      <th>2</th>\n",
       "      <td>0.0</td>\n",
       "      <td>udp</td>\n",
       "      <td>other</td>\n",
       "      <td>SF</td>\n",
       "      <td>1.0</td>\n",
       "      <td>0.0</td>\n",
       "      <td>0.0</td>\n",
       "      <td>0.0</td>\n",
       "      <td>0.0</td>\n",
       "      <td>0.0</td>\n",
       "      <td>...</td>\n",
       "      <td>255.0</td>\n",
       "      <td>6.0</td>\n",
       "      <td>0.02</td>\n",
       "      <td>0.63</td>\n",
       "      <td>1.00</td>\n",
       "      <td>0.00</td>\n",
       "      <td>0.0</td>\n",
       "      <td>0.0</td>\n",
       "      <td>0.0</td>\n",
       "      <td>0.0</td>\n",
       "    </tr>\n",
       "    <tr>\n",
       "      <th>3</th>\n",
       "      <td>0.0</td>\n",
       "      <td>tcp</td>\n",
       "      <td>http</td>\n",
       "      <td>SF</td>\n",
       "      <td>408.0</td>\n",
       "      <td>13133.0</td>\n",
       "      <td>0.0</td>\n",
       "      <td>0.0</td>\n",
       "      <td>0.0</td>\n",
       "      <td>0.0</td>\n",
       "      <td>...</td>\n",
       "      <td>73.0</td>\n",
       "      <td>231.0</td>\n",
       "      <td>1.00</td>\n",
       "      <td>0.00</td>\n",
       "      <td>0.01</td>\n",
       "      <td>0.03</td>\n",
       "      <td>0.0</td>\n",
       "      <td>0.0</td>\n",
       "      <td>0.0</td>\n",
       "      <td>0.0</td>\n",
       "    </tr>\n",
       "    <tr>\n",
       "      <th>4</th>\n",
       "      <td>0.0</td>\n",
       "      <td>udp</td>\n",
       "      <td>domain_u</td>\n",
       "      <td>SF</td>\n",
       "      <td>45.0</td>\n",
       "      <td>129.0</td>\n",
       "      <td>0.0</td>\n",
       "      <td>0.0</td>\n",
       "      <td>0.0</td>\n",
       "      <td>0.0</td>\n",
       "      <td>...</td>\n",
       "      <td>255.0</td>\n",
       "      <td>255.0</td>\n",
       "      <td>1.00</td>\n",
       "      <td>0.00</td>\n",
       "      <td>0.00</td>\n",
       "      <td>0.00</td>\n",
       "      <td>0.0</td>\n",
       "      <td>0.0</td>\n",
       "      <td>0.0</td>\n",
       "      <td>0.0</td>\n",
       "    </tr>\n",
       "  </tbody>\n",
       "</table>\n",
       "<p>5 rows × 41 columns</p>\n",
       "</div>"
      ],
      "text/plain": [
       "   duration protocol_type   service flag  src_bytes  dst_bytes  land  \\\n",
       "0       0.0           tcp  ftp_data   SF      203.0        0.0   0.0   \n",
       "1       0.0           tcp      http   SF      216.0     4828.0   0.0   \n",
       "2       0.0           udp     other   SF        1.0        0.0   0.0   \n",
       "3       0.0           tcp      http   SF      408.0    13133.0   0.0   \n",
       "4       0.0           udp  domain_u   SF       45.0      129.0   0.0   \n",
       "\n",
       "   wrong_fragment  urgent  hot  ...  dst_host_count  dst_host_srv_count  \\\n",
       "0             0.0     0.0  0.0  ...           255.0               125.0   \n",
       "1             0.0     0.0  0.0  ...             5.0               231.0   \n",
       "2             0.0     0.0  0.0  ...           255.0                 6.0   \n",
       "3             0.0     0.0  0.0  ...            73.0               231.0   \n",
       "4             0.0     0.0  0.0  ...           255.0               255.0   \n",
       "\n",
       "   dst_host_same_srv_rate  dst_host_diff_srv_rate  \\\n",
       "0                    0.49                    0.02   \n",
       "1                    1.00                    0.00   \n",
       "2                    0.02                    0.63   \n",
       "3                    1.00                    0.00   \n",
       "4                    1.00                    0.00   \n",
       "\n",
       "   dst_host_same_src_port_rate  dst_host_srv_diff_host_rate  \\\n",
       "0                         0.49                         0.00   \n",
       "1                         0.20                         0.02   \n",
       "2                         1.00                         0.00   \n",
       "3                         0.01                         0.03   \n",
       "4                         0.00                         0.00   \n",
       "\n",
       "   dst_host_serror_rate  dst_host_srv_serror_rate  dst_host_rerror_rate  \\\n",
       "0                   0.0                       0.0                   0.0   \n",
       "1                   0.0                       0.0                   0.0   \n",
       "2                   0.0                       0.0                   0.0   \n",
       "3                   0.0                       0.0                   0.0   \n",
       "4                   0.0                       0.0                   0.0   \n",
       "\n",
       "   dst_host_srv_rerror_rate  \n",
       "0                       0.0  \n",
       "1                       0.0  \n",
       "2                       0.0  \n",
       "3                       0.0  \n",
       "4                       0.0  \n",
       "\n",
       "[5 rows x 41 columns]"
      ]
     },
     "execution_count": 150,
     "metadata": {},
     "output_type": "execute_result"
    }
   ],
   "source": [
    "x_kdd.head()"
   ]
  },
  {
   "cell_type": "markdown",
   "metadata": {},
   "source": [
    "## Challenge Description\n",
    "\n",
    "You just imported a data set, `x_kdd`, with 48K rows. The dataset was collected by by MIT Lincoln Labs in 1999, by operating a LAN-network as usual, and additionally carrying out various attacks. This specific dataset (which is a subset of the original dataset) has \"normal\" traffic as inlier class, and several attacks (buffer_overflow, ftp_write, imap, ...) as outlier class. Although this data does not represent payment fraud, it is relevant because of the mixed data type. \n",
    "\n",
    "\n",
    "There are no labels available, there is therefore also no split in train and test. \n",
    "The target is to predict as many true positives as possible (each positive gets you a positive score), and as few false positives as possible (each false positive subtracts a small score). So only submit points that may likely be positives!!\n",
    "\n",
    "\n",
    "Be selective, just submitting all points, or random points, will not get you a good score :)\n",
    "\n",
    "- Each true positive found yields **500** points\n",
    "- Each false positive costs **25** points\n",
    "\n",
    "**Hints**\n",
    "\n",
    "- The fraction of positives is less than 1%. Random guessing to gather labels is therefore unlikely to pay off. \n",
    "- When sufficiently many positive labels are available, this information may be used to further tune unsupervised algorithms, or to train a supervised classifier\n"
   ]
  },
  {
   "cell_type": "markdown",
   "metadata": {},
   "source": [
    "First clean up the data: convert categorical columns to one-hot encoded, and MinMax-scale all features. Do not remove any rows!\n",
    "\n"
   ]
  },
  {
   "cell_type": "code",
   "execution_count": null,
   "metadata": {},
   "outputs": [],
   "source": []
  },
  {
   "cell_type": "code",
   "execution_count": 151,
   "metadata": {},
   "outputs": [],
   "source": [
    "# clean-up code here\n",
    "x_kdd_clean = pd.get_dummies(x_kdd)"
   ]
  },
  {
   "cell_type": "code",
   "execution_count": 152,
   "metadata": {},
   "outputs": [
    {
     "data": {
      "text/html": [
       "<div>\n",
       "<style scoped>\n",
       "    .dataframe tbody tr th:only-of-type {\n",
       "        vertical-align: middle;\n",
       "    }\n",
       "\n",
       "    .dataframe tbody tr th {\n",
       "        vertical-align: top;\n",
       "    }\n",
       "\n",
       "    .dataframe thead th {\n",
       "        text-align: right;\n",
       "    }\n",
       "</style>\n",
       "<table border=\"1\" class=\"dataframe\">\n",
       "  <thead>\n",
       "    <tr style=\"text-align: right;\">\n",
       "      <th></th>\n",
       "      <th>duration</th>\n",
       "      <th>src_bytes</th>\n",
       "      <th>dst_bytes</th>\n",
       "      <th>land</th>\n",
       "      <th>wrong_fragment</th>\n",
       "      <th>urgent</th>\n",
       "      <th>hot</th>\n",
       "      <th>num_failed_logins</th>\n",
       "      <th>logged_in</th>\n",
       "      <th>num_compromissed</th>\n",
       "      <th>...</th>\n",
       "      <th>service_uucp</th>\n",
       "      <th>flag_REJ</th>\n",
       "      <th>flag_RSTO</th>\n",
       "      <th>flag_RSTOS0</th>\n",
       "      <th>flag_RSTR</th>\n",
       "      <th>flag_S1</th>\n",
       "      <th>flag_S2</th>\n",
       "      <th>flag_S3</th>\n",
       "      <th>flag_SF</th>\n",
       "      <th>flag_SH</th>\n",
       "    </tr>\n",
       "  </thead>\n",
       "  <tbody>\n",
       "    <tr>\n",
       "      <th>0</th>\n",
       "      <td>0.0</td>\n",
       "      <td>203.0</td>\n",
       "      <td>0.0</td>\n",
       "      <td>0.0</td>\n",
       "      <td>0.0</td>\n",
       "      <td>0.0</td>\n",
       "      <td>0.0</td>\n",
       "      <td>0.0</td>\n",
       "      <td>0.0</td>\n",
       "      <td>0.0</td>\n",
       "      <td>...</td>\n",
       "      <td>0</td>\n",
       "      <td>0</td>\n",
       "      <td>0</td>\n",
       "      <td>0</td>\n",
       "      <td>0</td>\n",
       "      <td>0</td>\n",
       "      <td>0</td>\n",
       "      <td>0</td>\n",
       "      <td>1</td>\n",
       "      <td>0</td>\n",
       "    </tr>\n",
       "    <tr>\n",
       "      <th>1</th>\n",
       "      <td>0.0</td>\n",
       "      <td>216.0</td>\n",
       "      <td>4828.0</td>\n",
       "      <td>0.0</td>\n",
       "      <td>0.0</td>\n",
       "      <td>0.0</td>\n",
       "      <td>0.0</td>\n",
       "      <td>0.0</td>\n",
       "      <td>1.0</td>\n",
       "      <td>0.0</td>\n",
       "      <td>...</td>\n",
       "      <td>0</td>\n",
       "      <td>0</td>\n",
       "      <td>0</td>\n",
       "      <td>0</td>\n",
       "      <td>0</td>\n",
       "      <td>0</td>\n",
       "      <td>0</td>\n",
       "      <td>0</td>\n",
       "      <td>1</td>\n",
       "      <td>0</td>\n",
       "    </tr>\n",
       "    <tr>\n",
       "      <th>2</th>\n",
       "      <td>0.0</td>\n",
       "      <td>1.0</td>\n",
       "      <td>0.0</td>\n",
       "      <td>0.0</td>\n",
       "      <td>0.0</td>\n",
       "      <td>0.0</td>\n",
       "      <td>0.0</td>\n",
       "      <td>0.0</td>\n",
       "      <td>0.0</td>\n",
       "      <td>0.0</td>\n",
       "      <td>...</td>\n",
       "      <td>0</td>\n",
       "      <td>0</td>\n",
       "      <td>0</td>\n",
       "      <td>0</td>\n",
       "      <td>0</td>\n",
       "      <td>0</td>\n",
       "      <td>0</td>\n",
       "      <td>0</td>\n",
       "      <td>1</td>\n",
       "      <td>0</td>\n",
       "    </tr>\n",
       "    <tr>\n",
       "      <th>3</th>\n",
       "      <td>0.0</td>\n",
       "      <td>408.0</td>\n",
       "      <td>13133.0</td>\n",
       "      <td>0.0</td>\n",
       "      <td>0.0</td>\n",
       "      <td>0.0</td>\n",
       "      <td>0.0</td>\n",
       "      <td>0.0</td>\n",
       "      <td>1.0</td>\n",
       "      <td>0.0</td>\n",
       "      <td>...</td>\n",
       "      <td>0</td>\n",
       "      <td>0</td>\n",
       "      <td>0</td>\n",
       "      <td>0</td>\n",
       "      <td>0</td>\n",
       "      <td>0</td>\n",
       "      <td>0</td>\n",
       "      <td>0</td>\n",
       "      <td>1</td>\n",
       "      <td>0</td>\n",
       "    </tr>\n",
       "    <tr>\n",
       "      <th>4</th>\n",
       "      <td>0.0</td>\n",
       "      <td>45.0</td>\n",
       "      <td>129.0</td>\n",
       "      <td>0.0</td>\n",
       "      <td>0.0</td>\n",
       "      <td>0.0</td>\n",
       "      <td>0.0</td>\n",
       "      <td>0.0</td>\n",
       "      <td>0.0</td>\n",
       "      <td>0.0</td>\n",
       "      <td>...</td>\n",
       "      <td>0</td>\n",
       "      <td>0</td>\n",
       "      <td>0</td>\n",
       "      <td>0</td>\n",
       "      <td>0</td>\n",
       "      <td>0</td>\n",
       "      <td>0</td>\n",
       "      <td>0</td>\n",
       "      <td>1</td>\n",
       "      <td>0</td>\n",
       "    </tr>\n",
       "  </tbody>\n",
       "</table>\n",
       "<p>5 rows × 79 columns</p>\n",
       "</div>"
      ],
      "text/plain": [
       "   duration  src_bytes  dst_bytes  land  wrong_fragment  urgent  hot  \\\n",
       "0       0.0      203.0        0.0   0.0             0.0     0.0  0.0   \n",
       "1       0.0      216.0     4828.0   0.0             0.0     0.0  0.0   \n",
       "2       0.0        1.0        0.0   0.0             0.0     0.0  0.0   \n",
       "3       0.0      408.0    13133.0   0.0             0.0     0.0  0.0   \n",
       "4       0.0       45.0      129.0   0.0             0.0     0.0  0.0   \n",
       "\n",
       "   num_failed_logins  logged_in  num_compromissed  ...  service_uucp  \\\n",
       "0                0.0        0.0               0.0  ...             0   \n",
       "1                0.0        1.0               0.0  ...             0   \n",
       "2                0.0        0.0               0.0  ...             0   \n",
       "3                0.0        1.0               0.0  ...             0   \n",
       "4                0.0        0.0               0.0  ...             0   \n",
       "\n",
       "   flag_REJ  flag_RSTO  flag_RSTOS0  flag_RSTR  flag_S1  flag_S2  flag_S3  \\\n",
       "0         0          0            0          0        0        0        0   \n",
       "1         0          0            0          0        0        0        0   \n",
       "2         0          0            0          0        0        0        0   \n",
       "3         0          0            0          0        0        0        0   \n",
       "4         0          0            0          0        0        0        0   \n",
       "\n",
       "   flag_SF  flag_SH  \n",
       "0        1        0  \n",
       "1        1        0  \n",
       "2        1        0  \n",
       "3        1        0  \n",
       "4        1        0  \n",
       "\n",
       "[5 rows x 79 columns]"
      ]
     },
     "execution_count": 152,
     "metadata": {},
     "output_type": "execute_result"
    }
   ],
   "source": [
    "x_kdd_clean.head()"
   ]
  },
  {
   "cell_type": "code",
   "execution_count": 153,
   "metadata": {},
   "outputs": [],
   "source": [
    "scaler = StandardScaler()\n",
    "x_kdd_clean = scaler.fit_transform(x_kdd_clean)"
   ]
  },
  {
   "cell_type": "code",
   "execution_count": 154,
   "metadata": {},
   "outputs": [
    {
     "data": {
      "text/plain": [
       "(48113, 79)"
      ]
     },
     "execution_count": 154,
     "metadata": {},
     "output_type": "execute_result"
    }
   ],
   "source": [
    "x_kdd_clean.shape"
   ]
  },
  {
   "cell_type": "markdown",
   "metadata": {},
   "source": [
    "## Outlier detection: your code!\n"
   ]
  },
  {
   "cell_type": "code",
   "execution_count": 65,
   "metadata": {},
   "outputs": [
    {
     "data": {
      "text/plain": [
       "(48113, 79)"
      ]
     },
     "execution_count": 65,
     "metadata": {},
     "output_type": "execute_result"
    }
   ],
   "source": [
    "x_kdd_clean.shape"
   ]
  },
  {
   "cell_type": "code",
   "execution_count": 66,
   "metadata": {},
   "outputs": [],
   "source": [
    "samples = np.random.choice(range(0, len(x_kdd_clean)), 500)"
   ]
  },
  {
   "cell_type": "code",
   "execution_count": 67,
   "metadata": {},
   "outputs": [],
   "source": [
    "MAX_N_TSNE = 4000 #Avoid overly long computation times with TSNE. Values < 4000 recommended \n",
    "\n",
    "X_2D = TSNE(n_components=2).fit_transform(x_kdd_clean[samples]) # transform to 2-D space for plotting"
   ]
  },
  {
   "cell_type": "code",
   "execution_count": 68,
   "metadata": {},
   "outputs": [
    {
     "data": {
      "image/png": "[encoded data removed]",
      "text/plain": [
       "<Figure size 576x576 with 1 Axes>"
      ]
     },
     "metadata": {
      "needs_background": "light"
     },
     "output_type": "display_data"
    }
   ],
   "source": [
    "fig, ax = plt.subplots(1, 1, figsize=(8, 8))\n",
    "ax.scatter(X_2D[:, 0], X_2D[:, 1], marker='o', s=10)\n",
    "plt.axis('off')\n",
    "plt.show() "
   ]
  },
  {
   "cell_type": "code",
   "execution_count": 155,
   "metadata": {},
   "outputs": [
    {
     "data": {
      "text/plain": [
       "GaussianMixture(covariance_type='full', init_params='kmeans', max_iter=100,\n",
       "                means_init=None, n_components=20, n_init=1,\n",
       "                precisions_init=None, random_state=1, reg_covar=1e-06,\n",
       "                tol=0.001, verbose=0, verbose_interval=10, warm_start=False,\n",
       "                weights_init=None)"
      ]
     },
     "execution_count": 155,
     "metadata": {},
     "output_type": "execute_result"
    }
   ],
   "source": [
    "gmm = GaussianMixture(n_components=20, covariance_type='full', random_state=1) # try also spherical\n",
    "gmm.fit(x_kdd_clean)"
   ]
  },
  {
   "cell_type": "code",
   "execution_count": 156,
   "metadata": {},
   "outputs": [],
   "source": [
    "clf = KNN(method='median', n_neighbors=20)\n",
    "clf.fit(x_kdd_clean)\n",
    "\n",
    "# get the prediction label and outlier scores of the training data\n",
    "y_train_pred = clf.labels_  # binary labels (0: inliers, 1: outliers)\n",
    "y_train_scores = clf.decision_scores_  # raw outlier scores (use these for scoring!)\n"
   ]
  },
  {
   "cell_type": "code",
   "execution_count": 157,
   "metadata": {},
   "outputs": [],
   "source": [
    "lof = LOF(n_neighbors=30, contamination=0.01)\n",
    "lof.fit(x_kdd_clean)\n",
    "\n",
    "y_train_pred = lof.labels_  # binary labels (0: inliers, 1: outliers)\n",
    "y_train_scores = lof.decision_scores_\n",
    "\n",
    "indices_outliers_lov = get_top_N_indices(lof.decision_scores_)"
   ]
  },
  {
   "cell_type": "code",
   "execution_count": 158,
   "metadata": {},
   "outputs": [],
   "source": [
    "def get_top_N_indices(scores, N=100):\n",
    "    \"\"\" Helper function. Returns the indices of the points with the top N highest outlier scores\n",
    "    \"\"\"\n",
    "    return np.argsort(scores)[::-1][:N]"
   ]
  },
  {
   "cell_type": "markdown",
   "metadata": {},
   "source": [
    "## API submission\n",
    "\n",
    "Submit your predictions to the API with a LabelSubmitter object. \n",
    "This object has a `.post_predictions()` method to submit predictions, and a `.get_labels()` method to retrieve the labels (positives and negatives) of all previous submissions. \n",
    "\n",
    "Use the parameter `endpoint='kdd'` option for this challenge. "
   ]
  },
  {
   "cell_type": "code",
   "execution_count": 31,
   "metadata": {},
   "outputs": [],
   "source": [
    "username='CANBERRA'\n",
    "password='iusHr'\n",
    "if not ('ls' in locals() and ls.jwt_token): #only if no labelsubmitter with .jwt_token is available\n",
    "    ls = LabelSubmitter(username=username,\n",
    "                       password=password,\n",
    "                       url=url)\n"
   ]
  },
  {
   "cell_type": "code",
   "execution_count": 32,
   "metadata": {},
   "outputs": [
    {
     "data": {
      "text/plain": [
       "array([43332, 45522,  7997, 41403, 19590,  5822,  2168,  3010, 42338,\n",
       "       29073])"
      ]
     },
     "execution_count": 32,
     "metadata": {},
     "output_type": "execute_result"
    }
   ],
   "source": [
    "indices_outliers"
   ]
  },
  {
   "cell_type": "code",
   "execution_count": 159,
   "metadata": {},
   "outputs": [],
   "source": [
    "indices_outliers_gmm = get_top_N_indices(-scores_gmm, 1000)\n",
    "sample_scores_knn = get_top_N_indices(clf.decision_scores_, 1000)\n",
    "indices_outliers_lov = get_top_N_indices(lof.decision_scores_, 1000)"
   ]
  },
  {
   "cell_type": "code",
   "execution_count": 160,
   "metadata": {},
   "outputs": [],
   "source": [
    "all_indices = np.concatenate([indices_outliers_knn, indices_outliers_lov, indices_outliers_gmm])"
   ]
  },
  {
   "cell_type": "code",
   "execution_count": 161,
   "metadata": {},
   "outputs": [],
   "source": [
    "unique, counts = np.unique(all_indices, return_counts=True)\n",
    "counts_dict = dict(zip(unique, counts))"
   ]
  },
  {
   "cell_type": "code",
   "execution_count": 162,
   "metadata": {},
   "outputs": [],
   "source": [
    "top_indices = unique[counts >=2]"
   ]
  },
  {
   "cell_type": "code",
   "execution_count": 163,
   "metadata": {},
   "outputs": [
    {
     "data": {
      "text/plain": [
       "array([  183,   185,   354,   567,   592,   634,   909,  1380,  1636,\n",
       "        1712,  1854,  2140,  2168,  2219,  2505,  2565,  2774,  2824,\n",
       "        2882,  3010,  3024,  3050,  3095,  3116,  3183,  3315,  3480,\n",
       "        3730,  3788,  3813,  4003,  4418,  4575,  4632,  5140,  5156,\n",
       "        5227,  5281,  5421,  5610,  5679,  5822,  5977,  6102,  6267,\n",
       "        6598,  6797,  6979,  6986,  7134,  7296,  7375,  7599,  7825,\n",
       "        8330,  8500,  8569,  8702,  8896,  9150,  9541,  9735,  9774,\n",
       "       10099, 10364, 10416, 10650, 11096, 11469, 11601, 11633, 12071,\n",
       "       12181, 12248, 12268, 12300, 12499, 12569, 12936, 12953, 13308,\n",
       "       13485, 13762, 14112, 14223, 14876, 15306, 15664, 15839, 15947,\n",
       "       16300, 16473, 16524, 16533, 16794, 16818, 16840, 17001, 17221,\n",
       "       17359, 17441, 17711, 17994, 18130, 18177, 18389, 18618, 18738,\n",
       "       18926, 19133, 19222, 19242, 19456, 19590, 19783, 20126, 20513,\n",
       "       20896, 20932, 21131, 21465, 21517, 21653, 21675, 22017, 22636,\n",
       "       23054, 23102, 23203, 23319, 23557, 23657, 24118, 24258, 24475,\n",
       "       24503, 24795, 25248, 25397, 25460, 25533, 25795, 26217, 26296,\n",
       "       26407, 26628, 26884, 27165, 27169, 27853, 28016, 28072, 28451,\n",
       "       28477, 28488, 28612, 28725, 28812, 28910, 29073, 29387, 29619,\n",
       "       29712, 30164, 30283, 30510, 30530, 30708, 31032, 31287, 31504,\n",
       "       31712, 31756, 31939, 32743, 32752, 32937, 32941, 33030, 33158,\n",
       "       33369, 33413, 33484, 33622, 33771, 33781, 33975, 34976, 35348,\n",
       "       35402, 35575, 35791, 35892, 36068, 36111, 36656, 36749, 36830,\n",
       "       37090, 37185, 37231, 37270, 37417, 37553, 37723, 37796, 37984,\n",
       "       38063, 38070, 38238, 38407, 38510, 38815, 38884, 39192, 39239,\n",
       "       39328, 39524, 39546, 39607, 39741, 39899, 39974, 40134, 40220,\n",
       "       40328, 40525, 40624, 41022, 41044, 41084, 41123, 41363, 41403,\n",
       "       41933, 41989, 42250, 42332, 42338, 42427, 42539, 42766, 43081,\n",
       "       43186, 43332, 43348, 43800, 44007, 44014, 44037, 44515, 44558,\n",
       "       45136, 45745, 45978, 46455, 46616, 46864, 46979, 47074, 47220,\n",
       "       47380, 47571, 47757, 47880, 48016, 48075, 48107])"
      ]
     },
     "execution_count": 163,
     "metadata": {},
     "output_type": "execute_result"
    }
   ],
   "source": [
    "top_indices"
   ]
  },
  {
   "cell_type": "code",
   "execution_count": 164,
   "metadata": {},
   "outputs": [
    {
     "data": {
      "text/plain": [
       "(268,)"
      ]
     },
     "execution_count": 164,
     "metadata": {},
     "output_type": "execute_result"
    }
   ],
   "source": [
    "top_indices.shape"
   ]
  },
  {
   "cell_type": "code",
   "execution_count": 106,
   "metadata": {},
   "outputs": [
    {
     "data": {
      "text/plain": [
       "(array([31939, 11601,   354, 28725,   634, 29073, 33484,  4003, 36830,\n",
       "        35402, 17359, 26407, 27169, 26153, 23203, 24119, 12248, 17994,\n",
       "         8500, 43631, 25248, 24943, 28477, 26714, 43912, 37185, 41013,\n",
       "        26828, 43637, 47375, 31766,    57, 14625, 19685, 11469, 13741,\n",
       "        27299, 36749, 21950,  8170,  5018,    83, 31380,  8896, 32941,\n",
       "         7157,  1712, 42332, 24118, 36656, 30328, 42308, 20513, 12071,\n",
       "         6663, 47663, 28016, 45624, 20197, 23102, 45808, 16818, 37231,\n",
       "        42539, 47315, 22525,  6156, 25397, 36880, 42711, 39741, 45616,\n",
       "        37966, 33189, 45414, 41084, 23557, 21131, 46837,  8543,  9735,\n",
       "        45726, 19783, 42766, 12953, 44515,  6797, 11633, 30283, 27742,\n",
       "        37818, 25361, 29798, 29802, 22636, 34315, 24475,  3050, 45860,\n",
       "        44604]),\n",
       " array([31939,   354, 11601, 40244, 28725,  5747, 30741, 45651,  8221,\n",
       "        39080, 46247,  8569, 16794, 34887,  8500, 38303,  5458, 33413,\n",
       "        18738, 16524,  7375, 36685, 14264, 16210, 35409, 44711,  5255,\n",
       "         7331, 43002,   756, 41022, 37231, 18916, 37183, 10596, 35506,\n",
       "         3448,  7264, 18542,  7862, 15011,   555,  3915,  7861, 24258,\n",
       "        43800,  1159,  4701, 31309, 40220, 19231, 22331, 18610, 30936,\n",
       "        28433, 10573, 28527, 37276, 43288,  8686,   958, 38432, 33829,\n",
       "        14933, 34529, 41378, 42289, 36830, 35402, 45584, 43123, 46364,\n",
       "        33888, 26407, 28008,   134,  7127, 33560, 38513, 19870, 46993,\n",
       "        42051, 15570, 16298, 32941, 44222, 42332, 23285, 17359, 20019,\n",
       "        46968, 43203, 11984, 27064, 13419, 30473, 17633, 22761,  2118,\n",
       "        12840, 32672, 19585, 36977, 21031,  4174, 30234,   353, 41123,\n",
       "        46444, 29625, 24986, 37188, 39460, 20146, 29073, 30932, 37333,\n",
       "        38798, 17848, 27853,  5405, 21007, 46031, 29050, 44902, 31870,\n",
       "        34536, 43013, 37743,  8800, 13849, 47629, 18651, 43365,  8278,\n",
       "        28075,  8780, 28453, 25027,   992,   634, 27750, 15340, 22083,\n",
       "        33507, 28072,  2186, 28290, 44841, 27333, 19314, 15174, 36466,\n",
       "        23557, 29896, 31236, 29021,  1666, 42306, 31818, 37417, 28191,\n",
       "        27068, 23915, 47220, 11842, 14403, 37028, 36493, 28867, 24118,\n",
       "        30428, 46455, 20513, 38768, 29979,  8896, 33030, 47835, 23604,\n",
       "        41084, 44465, 39711, 19783, 17978,  5733, 42250, 16410, 43348,\n",
       "        46123, 33189,  9735, 29256, 32692, 20896, 45978, 27538, 46887,\n",
       "        34343, 36750]),\n",
       " array([ 6979,  2505,   567, 38238, 33781, 41363, 24503, 15947, 44014,\n",
       "        12181, 16794, 43800, 41022, 37231,  6797, 46864, 42766, 30283,\n",
       "        25397,  3315,  3788,  7420,  4418, 33771, 11492,  7115, 31353,\n",
       "         3024,  5227,  8500, 46954,   592, 47074, 12569, 46867, 40100,\n",
       "        11633,  5610,  3480, 37417,  1636, 18783, 15177, 13943,   213,\n",
       "         4506, 43332,  1182, 19009,  2168, 43081, 13764, 19931, 36307,\n",
       "         7178, 13549, 37796, 34871, 41779, 10416,  5255, 42427, 41403,\n",
       "        23241, 43209, 33030, 15306, 46344, 34425, 32743, 33975, 31287,\n",
       "         8702, 30510, 16321, 44711, 38070,  9126,   223, 33142, 43002,\n",
       "        18916, 42338,  4449, 12947,  4383, 29800, 18926, 24258, 12741,\n",
       "        17711,  3813, 23941, 37984, 39359, 19782, 15147, 10596, 32937,\n",
       "         2824,  2565, 35506, 27853, 11126, 21465, 26628, 37149, 30181,\n",
       "         9150,  5156, 47431, 24754, 19590, 22581, 12499, 14441, 45926,\n",
       "         4297, 23119,  3176,  5822, 39741, 44679, 26577, 42250, 27926,\n",
       "        23864, 16300, 32752, 14112,  2882, 26820, 14165, 28989,  7296,\n",
       "        29712, 39881, 31504,   599, 23077, 21628,  9906, 10143, 44037,\n",
       "        46130, 16336,  9774, 19368, 21675, 39974,  6808,  8329, 25533,\n",
       "        38313, 18177, 46455, 46180, 39524, 25982, 20896, 23936,  5679,\n",
       "        19012, 47399, 40134,  2399, 30530, 28451, 24545,  3010, 13762,\n",
       "        16533, 28910, 38407, 15664, 21031, 14223, 42102,  3730,  5421,\n",
       "        39899, 21517, 46175, 41434,  5140, 18738, 21017, 22205, 40220,\n",
       "        47788, 45522, 13713,  7997, 27526, 40180,  5977,  6324, 45136,\n",
       "         4575,  6598]))"
      ]
     },
     "execution_count": 106,
     "metadata": {},
     "output_type": "execute_result"
    }
   ],
   "source": [
    "indices_outliers_knn, indices_outliers_lov, indices_outliers_gmm"
   ]
  },
  {
   "cell_type": "code",
   "execution_count": null,
   "metadata": {},
   "outputs": [],
   "source": []
  },
  {
   "cell_type": "code",
   "execution_count": null,
   "metadata": {},
   "outputs": [],
   "source": []
  },
  {
   "cell_type": "code",
   "execution_count": 165,
   "metadata": {
    "scrolled": true
   },
   "outputs": [
    {
     "name": "stdout",
     "output_type": "stream",
     "text": [
      "submitted 145 new points\n",
      "number of positives in submission: 47\n",
      "precision of submission: 17.54%\n"
     ]
    }
   ],
   "source": [
    "ls.post_predictions(idx=top_indices, endpoint='kdd')"
   ]
  },
  {
   "cell_type": "code",
   "execution_count": null,
   "metadata": {},
   "outputs": [],
   "source": [
    "6797, 16794, 20513, 27853"
   ]
  },
  {
   "cell_type": "code",
   "execution_count": 166,
   "metadata": {},
   "outputs": [
    {
     "name": "stdout",
     "output_type": "stream",
     "text": [
      "number of predictions made: 556\n",
      "total number of positives found: 67\n",
      "total precision: 12.05%\n",
      "score: 21275\n"
     ]
    }
   ],
   "source": [
    "result = ls.get_labels(endpoint='kdd')"
   ]
  },
  {
   "cell_type": "code",
   "execution_count": 113,
   "metadata": {},
   "outputs": [],
   "source": [
    "idxes = result[result == 1].index"
   ]
  },
  {
   "cell_type": "code",
   "execution_count": 116,
   "metadata": {},
   "outputs": [
    {
     "data": {
      "text/plain": [
       "(array([ 682.15543792,  694.18410907, -422.75658503,   -2.71791063,\n",
       "         367.66295525,   32.64445926,   90.36052879,  694.18410874,\n",
       "         408.20633129,  694.18410894]),\n",
       " array([ 64.97751227,   1.41467677, 273.77780397,   8.77877875,\n",
       "         60.8083911 ,  25.83712834,   5.58302147,   1.41525558,\n",
       "         69.0671873 ,   1.41512453]),\n",
       " array([1.62564096, 8.47677516, 3.0792691 , 3.59412069, 1.15790918,\n",
       "        3.06600891, 3.21402036, 5.91630681, 1.73415625, 5.19730714]))"
      ]
     },
     "execution_count": 116,
     "metadata": {},
     "output_type": "execute_result"
    }
   ],
   "source": [
    "-scores_gmm[idxes], clf.decision_scores_[idxes], lof.decision_scores_[idxes]"
   ]
  },
  {
   "cell_type": "code",
   "execution_count": null,
   "metadata": {},
   "outputs": [],
   "source": []
  }
 ],
 "metadata": {
  "kernelspec": {
   "display_name": "Python 3",
   "language": "python",
   "name": "python3"
  },
  "language_info": {
   "codemirror_mode": {
    "name": "ipython",
    "version": 3
   },
   "file_extension": ".py",
   "mimetype": "text/x-python",
   "name": "python",
   "nbconvert_exporter": "python",
   "pygments_lexer": "ipython3",
   "version": "3.7.6"
  }
 },
 "nbformat": 4,
 "nbformat_minor": 4
}
